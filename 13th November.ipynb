{
 "cells": [
  {
   "cell_type": "markdown",
   "id": "0f4291f9-26be-41da-bd9b-f1a3de7c2475",
   "metadata": {},
   "source": [
    "# Warm-up:"
   ]
  },
  {
   "cell_type": "code",
   "execution_count": 1,
   "id": "647701ba-3826-4fff-9519-8c4289cf8866",
   "metadata": {},
   "outputs": [],
   "source": [
    "def test1(func):\n",
    "    def test2():\n",
    "        print(\"I am inside test2\")\n",
    "        func()\n",
    "        print(func())\n",
    "        print(\"func executed\")\n",
    "        return func()\n",
    "    return test2"
   ]
  },
  {
   "cell_type": "code",
   "execution_count": 2,
   "id": "76ea2c34-61f2-4c42-8966-83e04acd10bc",
   "metadata": {},
   "outputs": [],
   "source": [
    "@test1\n",
    "def test3():\n",
    "    print(\"This is my test3\")"
   ]
  },
  {
   "cell_type": "code",
   "execution_count": 3,
   "id": "8b22b1e4-ccf8-4ddc-9972-6e6e1c0f7082",
   "metadata": {},
   "outputs": [
    {
     "name": "stdout",
     "output_type": "stream",
     "text": [
      "I am inside test2\n",
      "This is my test3\n",
      "This is my test3\n",
      "None\n",
      "func executed\n",
      "This is my test3\n"
     ]
    }
   ],
   "source": [
    "test3()"
   ]
  },
  {
   "cell_type": "code",
   "execution_count": 4,
   "id": "a6441dbe-d071-4702-9a3e-229d72fc565e",
   "metadata": {},
   "outputs": [
    {
     "name": "stdout",
     "output_type": "stream",
     "text": [
      "I am inside test2\n",
      "This is my test3\n",
      "This is my test3\n",
      "None\n",
      "func executed\n",
      "This is my test3\n"
     ]
    },
    {
     "data": {
      "text/plain": [
       "<function __main__.test1.<locals>.test2()>"
      ]
     },
     "execution_count": 4,
     "metadata": {},
     "output_type": "execute_result"
    }
   ],
   "source": [
    "test1(test3())"
   ]
  },
  {
   "cell_type": "code",
   "execution_count": 5,
   "id": "cf2bb9c1-4754-48b7-a670-4e8f92abf51e",
   "metadata": {},
   "outputs": [],
   "source": [
    "@test1\n",
    "def test4():\n",
    "    return (5+6) # "
   ]
  },
  {
   "cell_type": "code",
   "execution_count": 6,
   "id": "90f4b7c9-961e-4133-b4cc-6be36647b792",
   "metadata": {},
   "outputs": [
    {
     "name": "stdout",
     "output_type": "stream",
     "text": [
      "I am inside test2\n",
      "11\n",
      "func executed\n"
     ]
    },
    {
     "data": {
      "text/plain": [
       "11"
      ]
     },
     "execution_count": 6,
     "metadata": {},
     "output_type": "execute_result"
    }
   ],
   "source": [
    "test4()"
   ]
  },
  {
   "cell_type": "code",
   "execution_count": 7,
   "id": "cfb9eb4b-306a-4ac1-a242-ee1f81cdc3b4",
   "metadata": {},
   "outputs": [
    {
     "name": "stdout",
     "output_type": "stream",
     "text": [
      "I am inside test2\n",
      "11\n",
      "func executed\n"
     ]
    }
   ],
   "source": [
    "a = test4()"
   ]
  },
  {
   "cell_type": "code",
   "execution_count": 8,
   "id": "6e16ce1e-fa92-42a5-b362-a33a063746ce",
   "metadata": {},
   "outputs": [
    {
     "data": {
      "text/plain": [
       "11"
      ]
     },
     "execution_count": 8,
     "metadata": {},
     "output_type": "execute_result"
    }
   ],
   "source": [
    "a"
   ]
  },
  {
   "cell_type": "code",
   "execution_count": 9,
   "id": "03ac75d5-efd9-4ab1-b6e4-5e5c1ede15d7",
   "metadata": {},
   "outputs": [
    {
     "name": "stdout",
     "output_type": "stream",
     "text": [
      "11\n"
     ]
    }
   ],
   "source": [
    "print(a) "
   ]
  },
  {
   "cell_type": "code",
   "execution_count": 10,
   "id": "d4404b59-e90c-4e02-b914-0ecd6c56dc85",
   "metadata": {},
   "outputs": [
    {
     "name": "stdout",
     "output_type": "stream",
     "text": [
      "I am inside test2\n",
      "11\n",
      "func executed\n"
     ]
    },
    {
     "data": {
      "text/plain": [
       "23"
      ]
     },
     "execution_count": 10,
     "metadata": {},
     "output_type": "execute_result"
    }
   ],
   "source": [
    "test4() + 12"
   ]
  },
  {
   "cell_type": "code",
   "execution_count": 11,
   "id": "f029621a-1b6e-498e-aea0-73efe6a325e9",
   "metadata": {},
   "outputs": [],
   "source": [
    "def test5():\n",
    "    return 4+5"
   ]
  },
  {
   "cell_type": "code",
   "execution_count": 12,
   "id": "3be163e9-0166-4150-87ea-a595d2baae0e",
   "metadata": {},
   "outputs": [
    {
     "data": {
      "text/plain": [
       "9"
      ]
     },
     "execution_count": 12,
     "metadata": {},
     "output_type": "execute_result"
    }
   ],
   "source": [
    "test5()"
   ]
  },
  {
   "cell_type": "code",
   "execution_count": 13,
   "id": "cfd374a5-1842-4094-a86f-901c83892a3d",
   "metadata": {},
   "outputs": [
    {
     "data": {
      "text/plain": [
       "int"
      ]
     },
     "execution_count": 13,
     "metadata": {},
     "output_type": "execute_result"
    }
   ],
   "source": [
    "type(test5())"
   ]
  },
  {
   "cell_type": "code",
   "execution_count": 14,
   "id": "1b6a1824-c331-472b-8437-576db694bfc0",
   "metadata": {},
   "outputs": [
    {
     "data": {
      "text/plain": [
       "21"
      ]
     },
     "execution_count": 14,
     "metadata": {},
     "output_type": "execute_result"
    }
   ],
   "source": [
    "test5() + 12"
   ]
  },
  {
   "cell_type": "code",
   "execution_count": 15,
   "id": "945af0b1-b0a8-4189-9b6c-067f9ef5d5a8",
   "metadata": {},
   "outputs": [
    {
     "name": "stdout",
     "output_type": "stream",
     "text": [
      "I am inside test2\n",
      "11\n",
      "func executed\n"
     ]
    },
    {
     "data": {
      "text/plain": [
       "int"
      ]
     },
     "execution_count": 15,
     "metadata": {},
     "output_type": "execute_result"
    }
   ],
   "source": [
    "type(test4())"
   ]
  },
  {
   "cell_type": "code",
   "execution_count": 16,
   "id": "43c00e2b-0e7a-4a93-acfa-587b175d5ce7",
   "metadata": {},
   "outputs": [],
   "source": [
    "def test6(func):\n",
    "    def test7():\n",
    "        func()\n",
    "        print(func())\n",
    "        print(\"This is my decorator function\")\n",
    "        return func() # Adding inorder to perform primitve operations on the called function i.e.\"func\"\n",
    "    return test7"
   ]
  },
  {
   "cell_type": "code",
   "execution_count": 17,
   "id": "f13f826f-ba7d-4c8c-b603-044ffd920e3b",
   "metadata": {},
   "outputs": [],
   "source": [
    "def test8():\n",
    "    return 5+7"
   ]
  },
  {
   "cell_type": "code",
   "execution_count": 18,
   "id": "c571e652-2de5-4e16-94f0-4c41b414b80f",
   "metadata": {},
   "outputs": [
    {
     "data": {
      "text/plain": [
       "24"
      ]
     },
     "execution_count": 18,
     "metadata": {},
     "output_type": "execute_result"
    }
   ],
   "source": [
    "test8() + 12"
   ]
  },
  {
   "cell_type": "code",
   "execution_count": 19,
   "id": "2f0fa4cc-1e9a-4339-ba88-6f979ce37f02",
   "metadata": {},
   "outputs": [],
   "source": [
    "@test6 \n",
    "def test8():\n",
    "    return 5+7 "
   ]
  },
  {
   "cell_type": "code",
   "execution_count": 20,
   "id": "9dce5913-e695-4de3-a8f6-788c0f9edc42",
   "metadata": {},
   "outputs": [
    {
     "name": "stdout",
     "output_type": "stream",
     "text": [
      "12\n",
      "This is my decorator function\n"
     ]
    },
    {
     "data": {
      "text/plain": [
       "112"
      ]
     },
     "execution_count": 20,
     "metadata": {},
     "output_type": "execute_result"
    }
   ],
   "source": [
    "test8() + 100 # Could not execute when using decorator"
   ]
  },
  {
   "cell_type": "code",
   "execution_count": 21,
   "id": "bb833cbb-810e-4316-b777-de910e40c0f4",
   "metadata": {
    "tags": []
   },
   "outputs": [
    {
     "name": "stdout",
     "output_type": "stream",
     "text": [
      "12\n",
      "This is my decorator function\n"
     ]
    },
    {
     "data": {
      "text/plain": [
       "int"
      ]
     },
     "execution_count": 21,
     "metadata": {},
     "output_type": "execute_result"
    }
   ],
   "source": [
    "type(test8())"
   ]
  },
  {
   "cell_type": "markdown",
   "id": "980b854b-91a4-4564-a423-ac9bbe465496",
   "metadata": {},
   "source": [
    "# Situation No.2:"
   ]
  },
  {
   "cell_type": "code",
   "execution_count": 22,
   "id": "ed40efa7-46a5-4b68-a1e4-27378c6a5cdf",
   "metadata": {},
   "outputs": [],
   "source": [
    "# Standard approach while creating a wrapper function to use *args as well as **kwargs\n",
    "\n",
    "def test6(func):\n",
    "    def test7(*args,**kwargs):\n",
    "        func(*args,**kwargs)\n",
    "        print(func(*args,**kwargs))\n",
    "        print(\"This is my decorator function\")\n",
    "        return func(*args,**kwargs) \n",
    "    return test7"
   ]
  },
  {
   "cell_type": "code",
   "execution_count": 23,
   "id": "4ce4f717-369d-4078-a13a-3a61b3ac3af6",
   "metadata": {},
   "outputs": [],
   "source": [
    "@test6\n",
    "def test8(a,b,c):\n",
    "    return a+b+c"
   ]
  },
  {
   "cell_type": "code",
   "execution_count": 24,
   "id": "c8e4f92f-6a9e-4e56-b64f-244c39034a5f",
   "metadata": {},
   "outputs": [
    {
     "name": "stdout",
     "output_type": "stream",
     "text": [
      "sudhKumarSudh\n",
      "This is my decorator function\n"
     ]
    },
    {
     "data": {
      "text/plain": [
       "'sudhKumarSudh'"
      ]
     },
     "execution_count": 24,
     "metadata": {},
     "output_type": "execute_result"
    }
   ],
   "source": [
    "test8(\"sudh\",\"Kumar\",\"Sudh\")"
   ]
  },
  {
   "cell_type": "code",
   "execution_count": 25,
   "id": "71213425-96c3-4ead-9b6d-c87f2de14487",
   "metadata": {},
   "outputs": [],
   "source": [
    "@test6\n",
    "def test9(**kwargs):\n",
    "    return kwargs"
   ]
  },
  {
   "cell_type": "code",
   "execution_count": 26,
   "id": "5441942d-3957-4c3e-900c-1ba3384e4598",
   "metadata": {},
   "outputs": [
    {
     "name": "stdout",
     "output_type": "stream",
     "text": [
      "{'a': 89, 'b': 67}\n",
      "This is my decorator function\n"
     ]
    },
    {
     "data": {
      "text/plain": [
       "{'a': 89, 'b': 67}"
      ]
     },
     "execution_count": 26,
     "metadata": {},
     "output_type": "execute_result"
    }
   ],
   "source": [
    "test9(a = 89, b = 67)"
   ]
  },
  {
   "cell_type": "markdown",
   "id": "861d2191-16da-418d-af9c-a4d9da5b77a4",
   "metadata": {},
   "source": [
    "# Anonymous Function:"
   ]
  },
  {
   "cell_type": "code",
   "execution_count": 27,
   "id": "04fa6925-abf8-4d8d-b114-7340758cad57",
   "metadata": {},
   "outputs": [],
   "source": [
    "# Also known as lambda function"
   ]
  },
  {
   "cell_type": "code",
   "execution_count": 28,
   "id": "f345ced3-a927-444e-8fe5-3ab5fee41599",
   "metadata": {},
   "outputs": [],
   "source": [
    "def test10(a,b):\n",
    "    return a+b"
   ]
  },
  {
   "cell_type": "code",
   "execution_count": 29,
   "id": "479945e5-a07c-4777-b592-26c93581d569",
   "metadata": {},
   "outputs": [
    {
     "data": {
      "text/plain": [
       "<function __main__.<lambda>(a, b)>"
      ]
     },
     "execution_count": 29,
     "metadata": {},
     "output_type": "execute_result"
    }
   ],
   "source": [
    "lambda a,b : a+b # <lambda> means un-named function"
   ]
  },
  {
   "cell_type": "code",
   "execution_count": 30,
   "id": "9ed0cc73-f5f8-45f3-85bd-e5d7ef0b6de7",
   "metadata": {},
   "outputs": [
    {
     "data": {
      "text/plain": [
       "<function __main__.test10(a, b)>"
      ]
     },
     "execution_count": 30,
     "metadata": {},
     "output_type": "execute_result"
    }
   ],
   "source": [
    "test10"
   ]
  },
  {
   "cell_type": "code",
   "execution_count": 31,
   "id": "153ac503-fdc6-4a60-b724-218b00b739cf",
   "metadata": {},
   "outputs": [],
   "source": [
    "# Storing function inside a variable\n",
    "c = lambda a,b : a + b \n",
    "# Do not use lambda for complex logics as it would be hectic"
   ]
  },
  {
   "cell_type": "code",
   "execution_count": 32,
   "id": "fe883d5c-207e-47f5-ab12-703edc193cb8",
   "metadata": {},
   "outputs": [
    {
     "data": {
      "text/plain": [
       "'sudh iNeuron'"
      ]
     },
     "execution_count": 32,
     "metadata": {},
     "output_type": "execute_result"
    }
   ],
   "source": [
    "# Calling variable to use the created function\n",
    "c(\"sudh\" , \" iNeuron\")"
   ]
  },
  {
   "cell_type": "code",
   "execution_count": 33,
   "id": "5d9504e4-94f8-4a34-ac1b-5b0edd764201",
   "metadata": {},
   "outputs": [],
   "source": [
    "d = lambda a,b,c,d : a*b+c/d"
   ]
  },
  {
   "cell_type": "code",
   "execution_count": 34,
   "id": "3d4a863a-7aef-4d63-be94-fe8a9f2e072f",
   "metadata": {},
   "outputs": [
    {
     "data": {
      "text/plain": [
       "12.833333333333334"
      ]
     },
     "execution_count": 34,
     "metadata": {},
     "output_type": "execute_result"
    }
   ],
   "source": [
    "d(3,4,5,6)"
   ]
  },
  {
   "cell_type": "code",
   "execution_count": 35,
   "id": "cd94d29f-5733-4e95-90f1-2b0554414b34",
   "metadata": {},
   "outputs": [],
   "source": [
    "e = lambda *args : args"
   ]
  },
  {
   "cell_type": "code",
   "execution_count": 36,
   "id": "5d9fc51a-ac79-4b9a-99da-3c958539e6a4",
   "metadata": {},
   "outputs": [
    {
     "data": {
      "text/plain": [
       "()"
      ]
     },
     "execution_count": 36,
     "metadata": {},
     "output_type": "execute_result"
    }
   ],
   "source": [
    "e()"
   ]
  },
  {
   "cell_type": "code",
   "execution_count": 37,
   "id": "e6fd8f70-b7a3-40ac-bc30-7ad031bbebd9",
   "metadata": {},
   "outputs": [
    {
     "data": {
      "text/plain": [
       "(3.5, 5, 54)"
      ]
     },
     "execution_count": 37,
     "metadata": {},
     "output_type": "execute_result"
    }
   ],
   "source": [
    "e(3.5,5,54)"
   ]
  },
  {
   "cell_type": "markdown",
   "id": "65f39992-7fa2-4337-a821-6653814bf475",
   "metadata": {},
   "source": [
    "# MAP"
   ]
  },
  {
   "cell_type": "code",
   "execution_count": 38,
   "id": "0966b704-aadb-45d1-9c8f-34e25cd4d65b",
   "metadata": {},
   "outputs": [],
   "source": [
    "l = [1,2,3,4,5,6,7]"
   ]
  },
  {
   "cell_type": "code",
   "execution_count": 39,
   "id": "1fe07f4d-cc7e-46ae-8167-a67ca2188139",
   "metadata": {},
   "outputs": [],
   "source": [
    "l1 = []\n",
    "for i in l:\n",
    "    l1.append(i+10)"
   ]
  },
  {
   "cell_type": "code",
   "execution_count": 40,
   "id": "067474b1-692f-4268-b352-b792ac5801d1",
   "metadata": {},
   "outputs": [
    {
     "data": {
      "text/plain": [
       "[11, 12, 13, 14, 15, 16, 17]"
      ]
     },
     "execution_count": 40,
     "metadata": {},
     "output_type": "execute_result"
    }
   ],
   "source": [
    "l1"
   ]
  },
  {
   "cell_type": "code",
   "execution_count": 41,
   "id": "140a75ec-ff15-4ac0-81d3-bff4a5d7b7bc",
   "metadata": {},
   "outputs": [],
   "source": [
    "def test14(a):\n",
    "    return a+10"
   ]
  },
  {
   "cell_type": "code",
   "execution_count": 42,
   "id": "68e238cc-8e55-48d2-9dbd-6091c821b18f",
   "metadata": {},
   "outputs": [
    {
     "data": {
      "text/plain": [
       "[11, 12, 13, 14, 15, 16, 17]"
      ]
     },
     "execution_count": 42,
     "metadata": {},
     "output_type": "execute_result"
    }
   ],
   "source": [
    "list(map(test14,l)) # Map only maps the function with the data input i.e. \"l\" here"
   ]
  },
  {
   "cell_type": "code",
   "execution_count": 43,
   "id": "cb6ac4d5-a69b-42f9-8a11-8164d87ce25d",
   "metadata": {},
   "outputs": [
    {
     "data": {
      "text/plain": [
       "[11, 12, 13, 14, 15, 16, 17]"
      ]
     },
     "execution_count": 43,
     "metadata": {},
     "output_type": "execute_result"
    }
   ],
   "source": [
    "# Map X Lambda\n",
    "list(map(lambda a:a+10 , l)) # Way No.1"
   ]
  },
  {
   "cell_type": "code",
   "execution_count": 44,
   "id": "9015885d-6d6a-4633-91af-3e72d884bfa2",
   "metadata": {},
   "outputs": [],
   "source": [
    "n = lambda a : a + 10 # Way No.2 (storing lambda as separate variable)"
   ]
  },
  {
   "cell_type": "code",
   "execution_count": 45,
   "id": "e66ca9c0-deef-421b-a288-a00a8e7d5914",
   "metadata": {},
   "outputs": [
    {
     "data": {
      "text/plain": [
       "[11, 12, 13, 14, 15, 16, 17]"
      ]
     },
     "execution_count": 45,
     "metadata": {},
     "output_type": "execute_result"
    }
   ],
   "source": [
    "list(map(n,l))"
   ]
  },
  {
   "cell_type": "code",
   "execution_count": 46,
   "id": "aeaa8ee1-360a-4e91-b918-04c6468c2f90",
   "metadata": {},
   "outputs": [],
   "source": [
    "l = [\"sudhanshu\", \"kumar\", \"iNeuron\"]"
   ]
  },
  {
   "cell_type": "code",
   "execution_count": 47,
   "id": "6164007a-4f13-45de-9a3d-803c46954468",
   "metadata": {},
   "outputs": [],
   "source": [
    "# Program for capitalising 'l' \n",
    "l1 = []\n",
    "for i in l:\n",
    "    a = i.upper()\n",
    "    l1.append(a)"
   ]
  },
  {
   "cell_type": "code",
   "execution_count": 48,
   "id": "74b3c9f1-1b96-419c-8c79-86acd5c581e9",
   "metadata": {},
   "outputs": [
    {
     "data": {
      "text/plain": [
       "['SUDHANSHU', 'KUMAR', 'INEURON']"
      ]
     },
     "execution_count": 48,
     "metadata": {},
     "output_type": "execute_result"
    }
   ],
   "source": [
    "l1"
   ]
  },
  {
   "cell_type": "code",
   "execution_count": 49,
   "id": "f493c05c-77ea-492b-a0a2-fec326e915b8",
   "metadata": {},
   "outputs": [
    {
     "data": {
      "text/plain": [
       "['SUDHANSHU', 'KUMAR', 'INEURON']"
      ]
     },
     "execution_count": 49,
     "metadata": {},
     "output_type": "execute_result"
    }
   ],
   "source": [
    "# Using map function\n",
    "list(map(lambda a: a.upper() , l)) # Way No.1"
   ]
  },
  {
   "cell_type": "code",
   "execution_count": 50,
   "id": "388fbb69-5336-421f-8a2d-768a2c1b261a",
   "metadata": {},
   "outputs": [
    {
     "data": {
      "text/plain": [
       "['SUDHANSHU', 'KUMAR', 'INEURON']"
      ]
     },
     "execution_count": 50,
     "metadata": {},
     "output_type": "execute_result"
    }
   ],
   "source": [
    "list(map(str.upper , l)) # Way No.2"
   ]
  },
  {
   "cell_type": "code",
   "execution_count": 51,
   "id": "9fc1fab4-44e7-4bf5-9ac6-235d6fc9470a",
   "metadata": {},
   "outputs": [
    {
     "data": {
      "text/plain": [
       "['SUDHANSHU', 'KUMAR', 'INEURON']"
      ]
     },
     "execution_count": 51,
     "metadata": {},
     "output_type": "execute_result"
    }
   ],
   "source": [
    "# Way No.3\n",
    "def upper_string(a): \n",
    "    return a.upper()\n",
    "list(map(upper_string , l))"
   ]
  },
  {
   "cell_type": "code",
   "execution_count": 52,
   "id": "85ffef70-b550-4d3c-a7a6-659e727ace8a",
   "metadata": {},
   "outputs": [],
   "source": [
    "# Obtaining list of the length of objects stored in 'l'\n",
    "l2 = []\n",
    "for i in l:\n",
    "    a = len(i)\n",
    "    l2.append(a)"
   ]
  },
  {
   "cell_type": "code",
   "execution_count": 53,
   "id": "942bf080-f744-4d66-908e-9b1ca514933d",
   "metadata": {},
   "outputs": [
    {
     "data": {
      "text/plain": [
       "[9, 5, 7]"
      ]
     },
     "execution_count": 53,
     "metadata": {},
     "output_type": "execute_result"
    }
   ],
   "source": [
    "l2"
   ]
  },
  {
   "cell_type": "code",
   "execution_count": 54,
   "id": "6c71e8a6-c2af-429e-812a-688831a37883",
   "metadata": {},
   "outputs": [
    {
     "data": {
      "text/plain": [
       "[9, 5, 7]"
      ]
     },
     "execution_count": 54,
     "metadata": {},
     "output_type": "execute_result"
    }
   ],
   "source": [
    "# Way No.1\n",
    "list(map(len,l))"
   ]
  },
  {
   "cell_type": "code",
   "execution_count": 55,
   "id": "5cf8231c-d7b0-4f65-8952-f68bfc9b40df",
   "metadata": {},
   "outputs": [
    {
     "data": {
      "text/plain": [
       "[9, 5, 7]"
      ]
     },
     "execution_count": 55,
     "metadata": {},
     "output_type": "execute_result"
    }
   ],
   "source": [
    "# Way No.2\n",
    "def test23(a):\n",
    "    return len(a)\n",
    "list(map(test23,l))"
   ]
  },
  {
   "cell_type": "markdown",
   "id": "7162f4ee-7d19-4d25-8779-10db3192a12e",
   "metadata": {},
   "source": [
    "# Filter Function:"
   ]
  },
  {
   "cell_type": "code",
   "execution_count": 56,
   "id": "600f00f2-e9f3-4f38-9f2b-1a60dc816768",
   "metadata": {},
   "outputs": [],
   "source": [
    "l = [1,2,3,4,5,6,7,8]\n",
    "l1 = []\n",
    "for i in l:\n",
    "    if i%2 == 0:\n",
    "        l1.append(i)"
   ]
  },
  {
   "cell_type": "code",
   "execution_count": 57,
   "id": "058f1ff1-d92f-48b9-943f-1b9e942dbcdb",
   "metadata": {},
   "outputs": [
    {
     "data": {
      "text/plain": [
       "[2, 4, 6, 8]"
      ]
     },
     "execution_count": 57,
     "metadata": {},
     "output_type": "execute_result"
    }
   ],
   "source": [
    "l1"
   ]
  },
  {
   "cell_type": "code",
   "execution_count": 58,
   "id": "25b7fdd4-cf13-4cec-a33a-b7ea34fcd74b",
   "metadata": {},
   "outputs": [
    {
     "data": {
      "text/plain": [
       "[2, 4, 6, 8]"
      ]
     },
     "execution_count": 58,
     "metadata": {},
     "output_type": "execute_result"
    }
   ],
   "source": [
    "[i for i in l if i%2==0]"
   ]
  },
  {
   "cell_type": "code",
   "execution_count": 59,
   "id": "27f64ae0-8e4d-4095-a71c-513996cea52d",
   "metadata": {},
   "outputs": [],
   "source": [
    "def test24(a):\n",
    "    l = []\n",
    "    if type(a) == list:\n",
    "        for i in a:\n",
    "          if i%2 == 0:\n",
    "            l.append(i)\n",
    "    return l"
   ]
  },
  {
   "cell_type": "code",
   "execution_count": 60,
   "id": "8c2be00a-f024-44f1-bf3a-7d878728dfca",
   "metadata": {},
   "outputs": [
    {
     "data": {
      "text/plain": [
       "[2, 4, 6, 8]"
      ]
     },
     "execution_count": 60,
     "metadata": {},
     "output_type": "execute_result"
    }
   ],
   "source": [
    "test24([1,2,3,4,5,6,7,8])"
   ]
  },
  {
   "cell_type": "code",
   "execution_count": 61,
   "id": "5f20bf96-d76b-470c-8266-6d488bebcc23",
   "metadata": {},
   "outputs": [],
   "source": [
    "a = lambda a : a if a%2 == 0 else None"
   ]
  },
  {
   "cell_type": "code",
   "execution_count": 62,
   "id": "e4d33343-0871-4886-8c8e-c4a6171b19bc",
   "metadata": {},
   "outputs": [
    {
     "data": {
      "text/plain": [
       "[None, 2, None, 4, None, 6, None, 8]"
      ]
     },
     "execution_count": 62,
     "metadata": {},
     "output_type": "execute_result"
    }
   ],
   "source": [
    "list(map(a, l))"
   ]
  },
  {
   "cell_type": "code",
   "execution_count": 63,
   "id": "9a5f20a9-32f9-4b47-8c9f-9f1c2d84f747",
   "metadata": {},
   "outputs": [
    {
     "data": {
      "text/plain": [
       "[1, 2, 3, 4, 5, 6, 7, 8]"
      ]
     },
     "execution_count": 63,
     "metadata": {},
     "output_type": "execute_result"
    }
   ],
   "source": [
    "l"
   ]
  },
  {
   "cell_type": "code",
   "execution_count": 64,
   "id": "92dd294d-dc86-4236-a82e-38fc0b0779f0",
   "metadata": {},
   "outputs": [
    {
     "data": {
      "text/plain": [
       "[2, 4, 6, 8]"
      ]
     },
     "execution_count": 64,
     "metadata": {},
     "output_type": "execute_result"
    }
   ],
   "source": [
    "list(filter(a,l)) #"
   ]
  },
  {
   "cell_type": "code",
   "execution_count": 65,
   "id": "82deba6e-2025-4313-88ad-3f3d41714073",
   "metadata": {},
   "outputs": [],
   "source": [
    "def test25(a):\n",
    "    if a%2 == 0:\n",
    "        return True\n",
    "    else:\n",
    "        return False"
   ]
  },
  {
   "cell_type": "code",
   "execution_count": 66,
   "id": "4179c183-a572-4fd9-b963-10fa1d9c2f9b",
   "metadata": {},
   "outputs": [
    {
     "data": {
      "text/plain": [
       "True"
      ]
     },
     "execution_count": 66,
     "metadata": {},
     "output_type": "execute_result"
    }
   ],
   "source": [
    "test25(32)"
   ]
  },
  {
   "cell_type": "code",
   "execution_count": 67,
   "id": "b390325c-2290-4094-90b6-8905c3621e2a",
   "metadata": {},
   "outputs": [
    {
     "data": {
      "text/plain": [
       "False"
      ]
     },
     "execution_count": 67,
     "metadata": {},
     "output_type": "execute_result"
    }
   ],
   "source": [
    "test25(35)"
   ]
  },
  {
   "cell_type": "code",
   "execution_count": 68,
   "id": "26b972c8-d581-4b79-a459-a8db536385d8",
   "metadata": {},
   "outputs": [
    {
     "data": {
      "text/plain": [
       "[2, 4, 6, 8]"
      ]
     },
     "execution_count": 68,
     "metadata": {},
     "output_type": "execute_result"
    }
   ],
   "source": [
    "list(filter(test25,l)) # Looks for true and false and give result according to it"
   ]
  },
  {
   "cell_type": "code",
   "execution_count": 69,
   "id": "ee27e144-a714-4e4b-abcc-5991aa767846",
   "metadata": {},
   "outputs": [
    {
     "data": {
      "text/plain": [
       "[1, 2, 3, 4, 5, 6, 7, 8]"
      ]
     },
     "execution_count": 69,
     "metadata": {},
     "output_type": "execute_result"
    }
   ],
   "source": [
    "l"
   ]
  },
  {
   "cell_type": "code",
   "execution_count": 70,
   "id": "7c70c750-a6cf-453b-b542-168c3f9595f6",
   "metadata": {},
   "outputs": [],
   "source": [
    "def test26(a):\n",
    "    if a%2 == 0:\n",
    "        return False\n",
    "    else:\n",
    "        return True"
   ]
  },
  {
   "cell_type": "code",
   "execution_count": 71,
   "id": "318fb7a5-37e4-4b2d-bb83-95504524dec7",
   "metadata": {},
   "outputs": [
    {
     "data": {
      "text/plain": [
       "[1, 3, 5, 7]"
      ]
     },
     "execution_count": 71,
     "metadata": {},
     "output_type": "execute_result"
    }
   ],
   "source": [
    "list(filter(test26,l))"
   ]
  },
  {
   "cell_type": "code",
   "execution_count": 72,
   "id": "87d55214-ca35-4896-a7a1-a390422e79a4",
   "metadata": {},
   "outputs": [
    {
     "data": {
      "text/plain": [
       "36"
      ]
     },
     "execution_count": 72,
     "metadata": {},
     "output_type": "execute_result"
    }
   ],
   "source": [
    "# Submission of all list values\n",
    "sum(l)"
   ]
  },
  {
   "cell_type": "code",
   "execution_count": 73,
   "id": "c5c06507-6653-46ef-aeda-b40bb824046c",
   "metadata": {},
   "outputs": [
    {
     "data": {
      "text/plain": [
       "[1, 2, 3, 4, 5, 6, 7, 8]"
      ]
     },
     "execution_count": 73,
     "metadata": {},
     "output_type": "execute_result"
    }
   ],
   "source": [
    "l"
   ]
  },
  {
   "cell_type": "markdown",
   "id": "9cc22945-5df1-43cc-a9d6-780343592c60",
   "metadata": {},
   "source": [
    "# Reduce Function:"
   ]
  },
  {
   "cell_type": "code",
   "execution_count": 74,
   "id": "d334c810-aef6-47bf-b366-6eac800aaf73",
   "metadata": {},
   "outputs": [],
   "source": [
    "from functools import reduce"
   ]
  },
  {
   "cell_type": "code",
   "execution_count": 75,
   "id": "683b4856-8e82-410b-95b7-0273ec6dd20b",
   "metadata": {},
   "outputs": [
    {
     "data": {
      "text/plain": [
       "40320"
      ]
     },
     "execution_count": 75,
     "metadata": {},
     "output_type": "execute_result"
    }
   ],
   "source": [
    "reduce(lambda a,b : a*b , l)"
   ]
  },
  {
   "cell_type": "code",
   "execution_count": 80,
   "id": "aebe9937-bdd6-43b0-a00a-eea5923eb2a9",
   "metadata": {},
   "outputs": [
    {
     "ename": "TypeError",
     "evalue": "<lambda>() missing 1 required positional argument: 'c'",
     "output_type": "error",
     "traceback": [
      "\u001b[0;31m---------------------------------------------------------------------------\u001b[0m",
      "\u001b[0;31mTypeError\u001b[0m                                 Traceback (most recent call last)",
      "Cell \u001b[0;32mIn [80], line 1\u001b[0m\n\u001b[0;32m----> 1\u001b[0m \u001b[43mreduce\u001b[49m\u001b[43m(\u001b[49m\u001b[38;5;28;43;01mlambda\u001b[39;49;00m\u001b[43m \u001b[49m\u001b[43ma\u001b[49m\u001b[43m,\u001b[49m\u001b[43mb\u001b[49m\u001b[43m,\u001b[49m\u001b[43mc\u001b[49m\u001b[43m \u001b[49m\u001b[43m:\u001b[49m\u001b[43m \u001b[49m\u001b[43ma\u001b[49m\u001b[38;5;241;43m*\u001b[39;49m\u001b[43mb\u001b[49m\u001b[38;5;241;43m*\u001b[39;49m\u001b[43mc\u001b[49m\u001b[43m \u001b[49m\u001b[43m,\u001b[49m\u001b[43m \u001b[49m\u001b[43ml\u001b[49m\u001b[43m \u001b[49m\u001b[43m)\u001b[49m\n",
      "\u001b[0;31mTypeError\u001b[0m: <lambda>() missing 1 required positional argument: 'c'"
     ]
    }
   ],
   "source": [
    "reduce(lambda a,b,c : a*b*c , l ) # Due to 'l'having 8 numbers it could not look for c in the end\n",
    "# Whenver passing any function in 'reduce' it should only take 2 args to avoind error as show above"
   ]
  },
  {
   "cell_type": "code",
   "execution_count": 77,
   "id": "e413aabe-35f4-4252-a5a1-f43b2cacd6a4",
   "metadata": {},
   "outputs": [
    {
     "data": {
      "text/plain": [
       "3"
      ]
     },
     "execution_count": 77,
     "metadata": {},
     "output_type": "execute_result"
    }
   ],
   "source": [
    "l1 = [3]\n",
    "reduce(lambda a,b : a*b , l1) # Exception"
   ]
  },
  {
   "cell_type": "markdown",
   "id": "f2ed06b2-f9f2-4b69-af48-0e5ab122662e",
   "metadata": {},
   "source": [
    "# Python Standard:"
   ]
  },
  {
   "cell_type": "code",
   "execution_count": 78,
   "id": "e91bc80c-17fb-4f1d-82d6-ec812401db3f",
   "metadata": {},
   "outputs": [],
   "source": [
    "# Telling people the syntax of custom-made function\n",
    "def test26(a:int ,b: \"function\", c = 234) -> int:\n",
    "    \"\"\" This is my doc string to give a hint to next programmer \"\"\"\n",
    "    return a+b+c\n",
    "# c = 234 will be taken as a default value"
   ]
  },
  {
   "cell_type": "code",
   "execution_count": 79,
   "id": "10b9c89b-d8cb-4f69-a78d-a26aa88cca0f",
   "metadata": {},
   "outputs": [
    {
     "data": {
      "text/plain": [
       "10"
      ]
     },
     "execution_count": 79,
     "metadata": {},
     "output_type": "execute_result"
    }
   ],
   "source": [
    "# Shift + Tab to check functions signature\n",
    "test26(2,4,4) \n",
    "# c's default value over-riden"
   ]
  },
  {
   "cell_type": "code",
   "execution_count": null,
   "id": "16688501-12df-4b64-bce9-1f095f64bcfd",
   "metadata": {},
   "outputs": [],
   "source": []
  }
 ],
 "metadata": {
  "kernelspec": {
   "display_name": "Python 3 (ipykernel)",
   "language": "python",
   "name": "python3"
  },
  "language_info": {
   "codemirror_mode": {
    "name": "ipython",
    "version": 3
   },
   "file_extension": ".py",
   "mimetype": "text/x-python",
   "name": "python",
   "nbconvert_exporter": "python",
   "pygments_lexer": "ipython3",
   "version": "3.10.6"
  },
  "toc-autonumbering": true
 },
 "nbformat": 4,
 "nbformat_minor": 5
}
