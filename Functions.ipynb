{
 "cells": [
  {
   "cell_type": "code",
   "execution_count": 1,
   "id": "198ac452-d3c5-4060-8ae4-63f6f828c071",
   "metadata": {},
   "outputs": [],
   "source": [
    "def test6(*sudh):\n",
    "    return list(sudh)"
   ]
  },
  {
   "cell_type": "code",
   "execution_count": 2,
   "id": "8ca1410b-0cf2-4b39-a2ea-0afd0ea6b67a",
   "metadata": {},
   "outputs": [
    {
     "data": {
      "text/plain": [
       "[9, 'sudh']"
      ]
     },
     "execution_count": 2,
     "metadata": {},
     "output_type": "execute_result"
    }
   ],
   "source": [
    "test6(9,\"sudh\")"
   ]
  },
  {
   "cell_type": "code",
   "execution_count": 3,
   "id": "edf414b4-64cf-4c37-bcee-6fa07bd231bd",
   "metadata": {},
   "outputs": [],
   "source": [
    "l = [1,2,3,4,5+8j]\n",
    "s = {4,5,6,6,5+8j}\n",
    "t = {2,6,9,\"v\"}"
   ]
  },
  {
   "cell_type": "code",
   "execution_count": 4,
   "id": "9555e5d9-1149-4561-a20f-fcf5ededf965",
   "metadata": {},
   "outputs": [
    {
     "data": {
      "text/plain": [
       "{(5+8j), 4, 5, 6}"
      ]
     },
     "execution_count": 4,
     "metadata": {},
     "output_type": "execute_result"
    }
   ],
   "source": [
    "s"
   ]
  },
  {
   "cell_type": "code",
   "execution_count": 5,
   "id": "d4a1d414-4691-42d4-b510-a2cc463a2227",
   "metadata": {},
   "outputs": [
    {
     "data": {
      "text/plain": [
       "{2, 6, 9, 'v'}"
      ]
     },
     "execution_count": 5,
     "metadata": {},
     "output_type": "execute_result"
    }
   ],
   "source": [
    "t"
   ]
  },
  {
   "cell_type": "code",
   "execution_count": 6,
   "id": "50b177c3-c2e8-451f-a370-7e6e04a987e1",
   "metadata": {},
   "outputs": [
    {
     "data": {
      "text/plain": [
       "[1, 2, 3, 4, (5+8j)]"
      ]
     },
     "execution_count": 6,
     "metadata": {},
     "output_type": "execute_result"
    }
   ],
   "source": [
    "l"
   ]
  },
  {
   "cell_type": "code",
   "execution_count": 7,
   "id": "e51b5596-79ec-46ca-b711-5858c4928288",
   "metadata": {},
   "outputs": [],
   "source": [
    "d = {}"
   ]
  },
  {
   "cell_type": "code",
   "execution_count": 8,
   "id": "cc08a908-fbe3-487a-961a-8c1eafad6cdd",
   "metadata": {},
   "outputs": [
    {
     "data": {
      "text/plain": [
       "dict"
      ]
     },
     "execution_count": 8,
     "metadata": {},
     "output_type": "execute_result"
    }
   ],
   "source": [
    "type(d)"
   ]
  },
  {
   "cell_type": "code",
   "execution_count": 9,
   "id": "aa5f232e-7d06-4437-ab6c-c9d5b3cd3402",
   "metadata": {},
   "outputs": [],
   "source": [
    "d1 = {1,2,3,4}"
   ]
  },
  {
   "cell_type": "code",
   "execution_count": 10,
   "id": "35f4d2ca-84c9-496b-b2bb-7a548840a721",
   "metadata": {},
   "outputs": [
    {
     "data": {
      "text/plain": [
       "set"
      ]
     },
     "execution_count": 10,
     "metadata": {},
     "output_type": "execute_result"
    }
   ],
   "source": [
    "type(d1)"
   ]
  },
  {
   "cell_type": "code",
   "execution_count": 11,
   "id": "d2579805-cdb0-44e3-806b-1973c26b7cc7",
   "metadata": {},
   "outputs": [],
   "source": [
    "d2 = {\"key1\" : \"sudh\" , \"key2\" : [1,2,3,5]}"
   ]
  },
  {
   "cell_type": "code",
   "execution_count": 12,
   "id": "806a0b7e-fb6b-46b0-8366-077cf5c41223",
   "metadata": {},
   "outputs": [
    {
     "data": {
      "text/plain": [
       "[1, 2, 3, 4, (5+8j)]"
      ]
     },
     "execution_count": 12,
     "metadata": {},
     "output_type": "execute_result"
    }
   ],
   "source": [
    "l "
   ]
  },
  {
   "cell_type": "code",
   "execution_count": 13,
   "id": "e53c85be-e1e5-4873-9ab4-db13eee46359",
   "metadata": {},
   "outputs": [
    {
     "data": {
      "text/plain": [
       "{'key1': 'sudh', 'key2': [1, 2, 3, 5]}"
      ]
     },
     "execution_count": 13,
     "metadata": {},
     "output_type": "execute_result"
    }
   ],
   "source": [
    "d2"
   ]
  },
  {
   "cell_type": "code",
   "execution_count": 14,
   "id": "5b5be428-5fa1-40e6-87b6-2411293b9c68",
   "metadata": {},
   "outputs": [],
   "source": [
    "d3 = {2345 : \"sudh\"}"
   ]
  },
  {
   "cell_type": "code",
   "execution_count": 15,
   "id": "56f299d9-8dd1-4ec8-b019-3775c89ba691",
   "metadata": {},
   "outputs": [
    {
     "data": {
      "text/plain": [
       "{2345: 'sudh'}"
      ]
     },
     "execution_count": 15,
     "metadata": {},
     "output_type": "execute_result"
    }
   ],
   "source": [
    "d3"
   ]
  },
  {
   "cell_type": "code",
   "execution_count": 16,
   "id": "ebc366eb-eb2f-4638-9abd-c5e01c932826",
   "metadata": {},
   "outputs": [
    {
     "ename": "SyntaxError",
     "evalue": "invalid syntax (1086451267.py, line 1)",
     "output_type": "error",
     "traceback": [
      "\u001b[0;36m  Cell \u001b[0;32mIn [16], line 1\u001b[0;36m\u001b[0m\n\u001b[0;31m    d4 = {$ : \"sudh\"}\u001b[0m\n\u001b[0m          ^\u001b[0m\n\u001b[0;31mSyntaxError\u001b[0m\u001b[0;31m:\u001b[0m invalid syntax\n"
     ]
    }
   ],
   "source": [
    "d4 = {$ : \"sudh\"} "
   ]
  },
  {
   "cell_type": "code",
   "execution_count": null,
   "id": "4875cb31-9c1f-4eef-88f0-231faa5334f1",
   "metadata": {},
   "outputs": [],
   "source": [
    "d5 = {[1,3,4,4] : \"sudh\"} ### list is not going to work as a key"
   ]
  },
  {
   "cell_type": "code",
   "execution_count": null,
   "id": "92609a36-3db0-4f69-96d4-e61c320b23bb",
   "metadata": {},
   "outputs": [],
   "source": [
    "d6 = {(1,2,3,4) : \"sudh\"}"
   ]
  },
  {
   "cell_type": "code",
   "execution_count": null,
   "id": "043cd42d-4fb2-4181-93b4-bc3e4d78c2bc",
   "metadata": {},
   "outputs": [],
   "source": [
    "d7 = {\"name\" : \"fariz\", \"Org\" : \"iNeuron\" , \"Maild ID\" : \"fariz@ineuron,ai\", \"name\" : \"sudh\"}"
   ]
  },
  {
   "cell_type": "code",
   "execution_count": null,
   "id": "89b1e84d-bcf7-4362-b83c-d5d9dd1af8db",
   "metadata": {},
   "outputs": [],
   "source": [
    "d7 ### having duplicate keys will only give output of the last read key"
   ]
  },
  {
   "cell_type": "code",
   "execution_count": null,
   "id": "bd6e5e85-7ead-4546-9fcc-e40edc63cf3d",
   "metadata": {},
   "outputs": [],
   "source": [
    "### Dictionary in a dictionary\n",
    "d8 = {\"name\" : \"sudh\" , \"Mentor\" : {\"FSDS\" : \"Imran\" , \"FSDA\" : \"Anand\" , \"Big Data\" : \"Shashank\"}}"
   ]
  },
  {
   "cell_type": "code",
   "execution_count": null,
   "id": "50ad871a-02d0-4e2c-bba7-14933fa02667",
   "metadata": {},
   "outputs": [],
   "source": [
    "d7[\"Maild ID\"]"
   ]
  },
  {
   "cell_type": "code",
   "execution_count": null,
   "id": "cbed5c37-a6ae-42a3-95f2-626d5dd92042",
   "metadata": {},
   "outputs": [],
   "source": [
    "### dictionary slicing\n",
    "d8[\"Mentor\"]['Big Data']"
   ]
  },
  {
   "cell_type": "markdown",
   "id": "2a3cc019-f247-4997-be16-1453581da2f6",
   "metadata": {},
   "source": [
    "# inbuilt fucntions"
   ]
  },
  {
   "cell_type": "code",
   "execution_count": null,
   "id": "470e126e-e627-40aa-86d9-5ba1ff74c13d",
   "metadata": {},
   "outputs": [],
   "source": [
    "### Printing list of all the keys \n",
    "list(d7.keys())"
   ]
  },
  {
   "cell_type": "code",
   "execution_count": null,
   "id": "184a2971-5814-4dfd-822a-c45f48206d05",
   "metadata": {},
   "outputs": [],
   "source": [
    "d7.values()"
   ]
  },
  {
   "cell_type": "code",
   "execution_count": null,
   "id": "f246a654-e5c0-41ed-962d-47a0f4be3d1d",
   "metadata": {},
   "outputs": [],
   "source": [
    "d7.items()"
   ]
  },
  {
   "cell_type": "code",
   "execution_count": null,
   "id": "37724e24-126f-48c8-b6e4-71c01e245e97",
   "metadata": {},
   "outputs": [],
   "source": [
    "d8"
   ]
  },
  {
   "cell_type": "markdown",
   "id": "e3a218f9-5b3d-4a7a-bbea-f1320a42cfee",
   "metadata": {},
   "source": [
    "printing values as dict"
   ]
  },
  {
   "cell_type": "code",
   "execution_count": null,
   "id": "c51f19d4-cf56-4e5b-861e-e727944536f2",
   "metadata": {},
   "outputs": [],
   "source": [
    "list(d8[\"Mentor\"].values())"
   ]
  },
  {
   "cell_type": "code",
   "execution_count": null,
   "id": "ee968d82-015c-4cb2-a3f9-4a0d90153ab4",
   "metadata": {},
   "outputs": [],
   "source": [
    "l = []\n",
    "for i in d8.keys():\n",
    "    if type(d8[i]) == dict :\n",
    "        l.append(list(d8[i].values()))"
   ]
  },
  {
   "cell_type": "code",
   "execution_count": null,
   "id": "3f1c087a-ca26-44af-9136-d58c54cba41f",
   "metadata": {},
   "outputs": [],
   "source": [
    "l"
   ]
  },
  {
   "cell_type": "code",
   "execution_count": null,
   "id": "5fcf98c7-95b7-4af6-a486-a2574f03c1bd",
   "metadata": {},
   "outputs": [],
   "source": [
    "d9 = {'name': 'sudh', 'Mentor': {'FSDS': 'Imran', 'FSDA': 'Anand', 'Big Data': 'Shashank'}, \"Maild ID\" : {\"Imran\" : \"imran@ineuron.ai\"}}"
   ]
  },
  {
   "cell_type": "code",
   "execution_count": null,
   "id": "480af746-4ed1-43a7-b10e-76198d11c9e4",
   "metadata": {},
   "outputs": [],
   "source": [
    "d9"
   ]
  },
  {
   "cell_type": "code",
   "execution_count": null,
   "id": "184d11e3-24b1-42af-9465-c38c7601e763",
   "metadata": {},
   "outputs": [],
   "source": [
    "def test9(d):\n",
    "    l = []\n",
    "    for i in d8.keys():\n",
    "        if type(d8[i]) == dict :\n",
    "            l.append(list(d8[i].values()))\n",
    "    return 1"
   ]
  },
  {
   "cell_type": "code",
   "execution_count": null,
   "id": "005de219-920a-4ec5-a124-2d0bf236d902",
   "metadata": {},
   "outputs": [],
   "source": [
    "test9(d9)"
   ]
  },
  {
   "cell_type": "code",
   "execution_count": null,
   "id": "45c4add6-18be-4653-8641-5d65260fe0ee",
   "metadata": {},
   "outputs": [],
   "source": [
    "d8[\"mobileno\"] = (\"324-34353-53434\")"
   ]
  },
  {
   "cell_type": "code",
   "execution_count": null,
   "id": "cb833a68-6d4a-4b3c-8b84-c877601a27f1",
   "metadata": {},
   "outputs": [],
   "source": [
    "d8"
   ]
  },
  {
   "cell_type": "code",
   "execution_count": null,
   "id": "421ec727-4dfc-471a-8367-e6d73f0e6fc4",
   "metadata": {},
   "outputs": [],
   "source": [
    "d8[\"name\"] = \"Sudhanshu Kumar\""
   ]
  },
  {
   "cell_type": "code",
   "execution_count": null,
   "id": "a8dac60a-9461-453c-9fb8-e07686172b67",
   "metadata": {},
   "outputs": [],
   "source": [
    "d8"
   ]
  },
  {
   "cell_type": "markdown",
   "id": "3a7cd0cc-4ba6-4971-a456-9214636d8d4d",
   "metadata": {},
   "source": [
    "# del"
   ]
  },
  {
   "cell_type": "code",
   "execution_count": null,
   "id": "f09d72d3-9292-4cfa-8f5f-aadc9cf4fd74",
   "metadata": {},
   "outputs": [],
   "source": [
    "del d7"
   ]
  },
  {
   "cell_type": "code",
   "execution_count": null,
   "id": "5c85a61c-7d67-48d6-ba4d-01d7c25d95a6",
   "metadata": {},
   "outputs": [],
   "source": [
    "d7"
   ]
  },
  {
   "cell_type": "code",
   "execution_count": null,
   "id": "893509c3-d272-4b2b-af7a-bb9738ee7ed8",
   "metadata": {},
   "outputs": [],
   "source": [
    "d8"
   ]
  },
  {
   "cell_type": "code",
   "execution_count": null,
   "id": "01ed5d96-a56b-442f-8efa-dc2ddb6d5795",
   "metadata": {},
   "outputs": [],
   "source": [
    "del d8[\"name\"]"
   ]
  },
  {
   "cell_type": "code",
   "execution_count": null,
   "id": "5c9d8795-6c64-4043-a91e-c20712dd1d08",
   "metadata": {},
   "outputs": [],
   "source": [
    "d8"
   ]
  },
  {
   "cell_type": "code",
   "execution_count": null,
   "id": "2ea9d76a-26f8-425c-924e-e1a11599ff38",
   "metadata": {},
   "outputs": [],
   "source": [
    "d8.pop(\"Mentor\")"
   ]
  },
  {
   "cell_type": "code",
   "execution_count": null,
   "id": "83127d26-df89-46dd-af02-abb0def5fbd8",
   "metadata": {},
   "outputs": [],
   "source": [
    "d8"
   ]
  },
  {
   "cell_type": "code",
   "execution_count": null,
   "id": "668a75ce-e884-4c09-a435-cc2ace0a1dd4",
   "metadata": {},
   "outputs": [],
   "source": [
    "d8[\"name\"] = \"Fariz Ali\""
   ]
  },
  {
   "cell_type": "code",
   "execution_count": null,
   "id": "a3e492d1-0f5c-40f9-8ce4-9b6f36fbe661",
   "metadata": {},
   "outputs": [],
   "source": [
    "d8"
   ]
  },
  {
   "cell_type": "markdown",
   "id": "f3d5277b-bd79-4d52-8724-ce80092b8d5b",
   "metadata": {},
   "source": [
    "# KWARGS"
   ]
  },
  {
   "cell_type": "code",
   "execution_count": null,
   "id": "32114c6f-a7e9-4cc0-a529-e60a82f3c97e",
   "metadata": {},
   "outputs": [],
   "source": [
    "\n",
    "def test10(**kwargs):\n",
    "    return kwargs"
   ]
  },
  {
   "cell_type": "code",
   "execution_count": null,
   "id": "5a742ae5-3db0-43d2-a204-0cffa81c01f5",
   "metadata": {},
   "outputs": [],
   "source": [
    "test10(a = 4,b = 5,c = 6,d = 7, sudh = [1,2,3,4])"
   ]
  },
  {
   "cell_type": "code",
   "execution_count": null,
   "id": "ec3231a8-edeb-4f22-a0bb-eb64192ab075",
   "metadata": {},
   "outputs": [],
   "source": [
    "### using ** will give output inform of dictionary while * will give inform of tuple"
   ]
  },
  {
   "cell_type": "code",
   "execution_count": null,
   "id": "4c544b38-2f03-4f5c-b610-1b39d14d8cb5",
   "metadata": {},
   "outputs": [],
   "source": [
    "def test11(**sudh):\n",
    "    return sudh"
   ]
  },
  {
   "cell_type": "code",
   "execution_count": null,
   "id": "a11a3cec-2fc3-4cd6-990c-45dae4db7535",
   "metadata": {},
   "outputs": [],
   "source": [
    "test11(b = \"sudh\", m = 1232)"
   ]
  },
  {
   "cell_type": "markdown",
   "id": "46e49a90-5221-40ce-9a87-cbd349e9c82e",
   "metadata": {},
   "source": [
    "# Funtion within a function"
   ]
  },
  {
   "cell_type": "code",
   "execution_count": null,
   "id": "0f726586-1441-4448-8664-0b6a55dd6586",
   "metadata": {},
   "outputs": [],
   "source": [
    "def test12(a): #simple fucntion\n",
    "    return a\n",
    "\n",
    "def test13(*args): #simple fucntion # *args = you can either pass 0 or 1\n",
    "    return \"sudh\"\n",
    "\n",
    "def test14(func):\n",
    "    return func(\"sudh\")"
   ]
  },
  {
   "cell_type": "code",
   "execution_count": null,
   "id": "747cd469-2573-4d0c-aaa1-26b2521f5524",
   "metadata": {},
   "outputs": [],
   "source": [
    "test14(test12)"
   ]
  },
  {
   "cell_type": "code",
   "execution_count": null,
   "id": "ed385090-0e54-486b-9300-c9dc792010fb",
   "metadata": {},
   "outputs": [],
   "source": [
    "test14(test13)"
   ]
  },
  {
   "cell_type": "code",
   "execution_count": null,
   "id": "fef285dc-6feb-4aba-bb48-8aab1ba93ffd",
   "metadata": {},
   "outputs": [],
   "source": [
    "def test15(a):\n",
    "    print(\"this is my test15\")\n",
    "    \n",
    "    def test16():\n",
    "        print(\"this is my test16\")\n",
    "    \n",
    "    def test17():\n",
    "        print(\"this is my test17\")\n",
    "        \n",
    "    if a == \"sudh\":\n",
    "        return test16()\n",
    "    elif a == \"kumar\":\n",
    "        return test17()        "
   ]
  },
  {
   "cell_type": "code",
   "execution_count": null,
   "id": "fda0b1fa-fbc1-438a-96ef-08d5d05accea",
   "metadata": {},
   "outputs": [],
   "source": [
    "test15(\"sudh\")"
   ]
  },
  {
   "cell_type": "code",
   "execution_count": null,
   "id": "abd68a61-0db5-48e5-9116-a4cc4d675ac7",
   "metadata": {},
   "outputs": [],
   "source": [
    "test15(\"kumar\")"
   ]
  },
  {
   "cell_type": "code",
   "execution_count": 18,
   "id": "e4d8cf1b-a278-4662-a396-fab5ac5be546",
   "metadata": {},
   "outputs": [],
   "source": [
    "def test18(func):\n",
    "    def test19():\n",
    "        print(\"i am inside test 19\")\n",
    "        func()\n",
    "    return test19()"
   ]
  },
  {
   "cell_type": "code",
   "execution_count": null,
   "id": "aa185a4d-a8dc-41cf-b724-2e8dfae92521",
   "metadata": {},
   "outputs": [],
   "source": [
    "def test13(*args): \n",
    "    print (\"sudh\")"
   ]
  },
  {
   "cell_type": "code",
   "execution_count": null,
   "id": "5345dd7f-7a4a-4c1c-890f-cf7fcfef0f46",
   "metadata": {},
   "outputs": [],
   "source": [
    "test18(test13)"
   ]
  },
  {
   "cell_type": "markdown",
   "id": "c969825a-30c8-4c91-aec8-f121d8e8f026",
   "metadata": {},
   "source": [
    "# Decorator"
   ]
  },
  {
   "cell_type": "code",
   "execution_count": null,
   "id": "0ad222d2-9f8f-43e8-8364-62abb6577895",
   "metadata": {},
   "outputs": [],
   "source": [
    "@test18 ### using functionaities of other functions\n",
    "def test20():\n",
    "    print(\"this is test20\")    "
   ]
  },
  {
   "cell_type": "code",
   "execution_count": 22,
   "id": "bb68071e-b941-4f8e-8f66-e9adf72ad85c",
   "metadata": {},
   "outputs": [],
   "source": [
    "import os\n",
    "def test18(func):\n",
    "    def test19():\n",
    "        print(\"i am inside test 19\")\n",
    "        print(os.getcwd())\n",
    "        func()\n",
    "    return test19()"
   ]
  },
  {
   "cell_type": "code",
   "execution_count": null,
   "id": "98529499-afae-4502-b0e8-d79a809897b4",
   "metadata": {},
   "outputs": [],
   "source": [
    "pwd()"
   ]
  },
  {
   "cell_type": "code",
   "execution_count": 20,
   "id": "c1dc5f53-17a3-496e-8529-3f948e585624",
   "metadata": {},
   "outputs": [],
   "source": [
    "def test20(func):\n",
    "    def test21():\n",
    "        func()\n",
    "        print(os.getcwd())\n",
    "    return test21"
   ]
  },
  {
   "cell_type": "code",
   "execution_count": 25,
   "id": "cecd2524-e863-457c-b582-35e0e7c8ec6a",
   "metadata": {},
   "outputs": [
    {
     "name": "stdout",
     "output_type": "stream",
     "text": [
      "i am inside test 19\n",
      "/home/jovyan/work\n",
      "This will print inside test 22\n",
      "/home/jovyan/work\n"
     ]
    }
   ],
   "source": [
    "### multiple decorations\n",
    "@test18\n",
    "@test20 \n",
    "def test22():\n",
    "    print(\"This will print inside test 22\")    "
   ]
  },
  {
   "cell_type": "code",
   "execution_count": 27,
   "id": "77222515-8893-4a15-8092-fdda8b7b3623",
   "metadata": {},
   "outputs": [
    {
     "ename": "TypeError",
     "evalue": "'NoneType' object is not callable",
     "output_type": "error",
     "traceback": [
      "\u001b[0;31m---------------------------------------------------------------------------\u001b[0m",
      "\u001b[0;31mTypeError\u001b[0m                                 Traceback (most recent call last)",
      "Cell \u001b[0;32mIn [27], line 1\u001b[0m\n\u001b[0;32m----> 1\u001b[0m \u001b[43mtest22\u001b[49m\u001b[43m(\u001b[49m\u001b[43m)\u001b[49m\n",
      "\u001b[0;31mTypeError\u001b[0m: 'NoneType' object is not callable"
     ]
    }
   ],
   "source": [
    "test22()"
   ]
  },
  {
   "cell_type": "code",
   "execution_count": 12,
   "id": "a343dcd3-52be-403d-b39b-e0c4a0e47ca1",
   "metadata": {},
   "outputs": [
    {
     "name": "stdout",
     "output_type": "stream",
     "text": [
      "Hello World\n",
      "0.00011205673217773438\n"
     ]
    }
   ],
   "source": [
    "import time\n",
    "\n",
    "start = time.time()\n",
    "print(\"Hello World\")\n",
    "end = time.time()\n",
    "print (end - start)"
   ]
  },
  {
   "cell_type": "code",
   "execution_count": 2,
   "id": "29802d58-457c-4501-8788-a3aa57aea328",
   "metadata": {},
   "outputs": [
    {
     "data": {
      "text/plain": [
       "1668253926.6240015"
      ]
     },
     "execution_count": 2,
     "metadata": {},
     "output_type": "execute_result"
    }
   ],
   "source": [
    "time.time()"
   ]
  },
  {
   "cell_type": "code",
   "execution_count": 17,
   "id": "dd17800f-c315-4866-b152-d39fca00688d",
   "metadata": {},
   "outputs": [],
   "source": [
    "def test25(func):\n",
    "    def test26():\n",
    "        print(\"This will give you execution time of a function\")\n",
    "        start = time.time()\n",
    "        func()\n",
    "        print(func())\n",
    "        end = time.time()\n",
    "        print(end - start)\n",
    "    return test26"
   ]
  },
  {
   "cell_type": "code",
   "execution_count": 18,
   "id": "5ae010d9-1443-4fb9-ba7f-c2a42de26773",
   "metadata": {},
   "outputs": [
    {
     "data": {
      "text/plain": [
       "<function __main__.test25.<locals>.test26()>"
      ]
     },
     "execution_count": 18,
     "metadata": {},
     "output_type": "execute_result"
    }
   ],
   "source": [
    "test25(990-1000)"
   ]
  },
  {
   "cell_type": "code",
   "execution_count": 23,
   "id": "9b7766a3-5b33-485f-89d7-2d33b9cbb884",
   "metadata": {},
   "outputs": [],
   "source": [
    "@test25\n",
    "def test27():\n",
    "    \"\"\"this is a function which will take a decoratror for calculating a execution time of a function\"\"\"\n",
    "    l = [4,5,6,7,8]\n",
    "    l1 = []\n",
    "    for i in l:\n",
    "        if type(i) == int:\n",
    "            l1.append(i)\n",
    "    return l1"
   ]
  },
  {
   "cell_type": "code",
   "execution_count": 24,
   "id": "80bd2ff1-bb04-4bd9-9e09-4f70345bd60d",
   "metadata": {},
   "outputs": [
    {
     "name": "stdout",
     "output_type": "stream",
     "text": [
      "This will give you execution time of a function\n",
      "[4, 5, 6, 7, 8]\n",
      "1.5735626220703125e-05\n"
     ]
    }
   ],
   "source": [
    "test27()"
   ]
  },
  {
   "cell_type": "code",
   "execution_count": null,
   "id": "23fcc3b8-dbdf-4eb1-a886-101249e81809",
   "metadata": {},
   "outputs": [],
   "source": []
  }
 ],
 "metadata": {
  "kernelspec": {
   "display_name": "Python 3 (ipykernel)",
   "language": "python",
   "name": "python3"
  },
  "language_info": {
   "codemirror_mode": {
    "name": "ipython",
    "version": 3
   },
   "file_extension": ".py",
   "mimetype": "text/x-python",
   "name": "python",
   "nbconvert_exporter": "python",
   "pygments_lexer": "ipython3",
   "version": "3.10.6"
  }
 },
 "nbformat": 4,
 "nbformat_minor": 5
}
